{
 "cells": [
  {
   "cell_type": "code",
   "execution_count": 3,
   "metadata": {},
   "outputs": [],
   "source": [
    "import numpy \n",
    "import cv2 as cv\n",
    "from matplotlib import pyplot as plt\n",
    "import tensorflow.keras.utils\n",
    "from tensorflow.keras.models import load_model\n",
    "from tkinter import *\n",
    "import PIL\n",
    "from PIL import ImageDraw\n",
    "import cv2 as cv"
   ]
  },
  {
   "cell_type": "code",
   "execution_count": null,
   "metadata": {},
   "outputs": [],
   "source": [
    "model=load_model('model.h5')"
   ]
  },
  {
   "cell_type": "code",
   "execution_count": 1,
   "metadata": {},
   "outputs": [
    {
     "ename": "NameError",
     "evalue": "name 'Tk' is not defined",
     "output_type": "error",
     "traceback": [
      "\u001b[1;31m---------------------------------------------------------------------------\u001b[0m",
      "\u001b[1;31mNameError\u001b[0m                                 Traceback (most recent call last)",
      "\u001b[1;32m<ipython-input-1-4bdf7aea2300>\u001b[0m in \u001b[0;36m<module>\u001b[1;34m\u001b[0m\n\u001b[0;32m     47\u001b[0m     \u001b[0mimage1\u001b[0m\u001b[1;33m=\u001b[0m\u001b[0mPIL\u001b[0m\u001b[1;33m.\u001b[0m\u001b[0mImage\u001b[0m\u001b[1;33m.\u001b[0m\u001b[0mnew\u001b[0m\u001b[1;33m(\u001b[0m\u001b[1;34m\"RGB\"\u001b[0m\u001b[1;33m,\u001b[0m\u001b[1;33m(\u001b[0m\u001b[1;36m800\u001b[0m\u001b[1;33m,\u001b[0m\u001b[1;36m600\u001b[0m\u001b[1;33m)\u001b[0m\u001b[1;33m,\u001b[0m\u001b[1;34m'white'\u001b[0m\u001b[1;33m)\u001b[0m\u001b[1;33m\u001b[0m\u001b[1;33m\u001b[0m\u001b[0m\n\u001b[0;32m     48\u001b[0m     \u001b[0mdraw\u001b[0m\u001b[1;33m=\u001b[0m\u001b[0mImageDraw\u001b[0m\u001b[1;33m.\u001b[0m\u001b[0mDraw\u001b[0m\u001b[1;33m(\u001b[0m\u001b[0mimage1\u001b[0m\u001b[1;33m)\u001b[0m\u001b[1;33m\u001b[0m\u001b[1;33m\u001b[0m\u001b[0m\n\u001b[1;32m---> 49\u001b[1;33m \u001b[0mmaster\u001b[0m \u001b[1;33m=\u001b[0m \u001b[0mTk\u001b[0m\u001b[1;33m(\u001b[0m\u001b[1;33m)\u001b[0m\u001b[1;33m\u001b[0m\u001b[1;33m\u001b[0m\u001b[0m\n\u001b[0m\u001b[0;32m     50\u001b[0m \u001b[0mmaster\u001b[0m\u001b[1;33m.\u001b[0m\u001b[0mtitle\u001b[0m\u001b[1;33m(\u001b[0m \u001b[1;34m\"Object Detection and Classification\"\u001b[0m \u001b[1;33m)\u001b[0m\u001b[1;33m\u001b[0m\u001b[1;33m\u001b[0m\u001b[0m\n\u001b[0;32m     51\u001b[0m w = Canvas(master, \n",
      "\u001b[1;31mNameError\u001b[0m: name 'Tk' is not defined"
     ]
    }
   ],
   "source": [
    "def predict_image(file='image.png'):\n",
    "    img = PIL.Image.open(file)\n",
    "    img.save(file)\n",
    "    img = cv.imread(file, 0)\n",
    "\n",
    "    edges = cv.Canny(img,50,50)\n",
    "    \n",
    "    mask = cv.dilate(edges, cv.getStructuringElement(cv.MORPH_ELLIPSE,(5, 5)), iterations=2)\n",
    "    \n",
    "    cntrs,_=cv.findContours(mask,cv.RETR_TREE,cv.CHAIN_APPROX_SIMPLE)\n",
    "    cntrs=sorted(cntrs,key=lambda x:(cv.boundingRect(x)[0],cv.boundingRect(x)[1]))\n",
    "    i=0\n",
    "    op=''\n",
    "    for cnt in cntrs:\n",
    "        x,y,w,h = cv.boundingRect(cnt)\n",
    "        if w>30 or h>30:\n",
    "            \n",
    "            current = img[y-int(w/10):y+h+int(w/10), x-int(w/10):x+w+int(w/10)]\n",
    "            try:\n",
    "                current=1-cv.resize(current,(28,28))/255\n",
    "                op+=class_mapping[np.argmax(model.predict(current.reshape(-1,28,28,1)))]\n",
    "            except:\n",
    "                pass\n",
    "    return op\n",
    "canvas_width = 560\n",
    "canvas_height = 560\n",
    "\n",
    "def activate_paint(e):\n",
    "    global lastx, lasty\n",
    "    w.bind('<B1-Motion>', paint)\n",
    "    lastx, lasty = e.x, e.y\n",
    "def paint( e ):\n",
    "    global lastx, lasty\n",
    "    x, y = e.x, e.y\n",
    "    w.create_line((lastx, lasty, x, y), width=3)\n",
    "    #  --- PIL\n",
    "    draw.line((lastx, lasty, x, y), fill='black', width=3)\n",
    "    lastx, lasty = x, y\n",
    "def digit_recog():\n",
    "    save_image()\n",
    "    op=predict_image()\n",
    "    lab.configure(text=op)\n",
    "def save_image():\n",
    "    image1.save('image.png')\n",
    "def reset():\n",
    "    w.delete('all')\n",
    "    lab.configure(text='')\n",
    "    global image1,draw\n",
    "    image1=PIL.Image.new(\"RGB\",(560,560),'white')\n",
    "    draw=ImageDraw.Draw(image1)\n",
    "master = Tk()\n",
    "master.title( \"Object Detection and Classification\" )\n",
    "w = Canvas(master, \n",
    "           width=canvas_width, \n",
    "           height=canvas_height,\n",
    "           bg='white')\n",
    "lastx,lasty=None,None\n",
    "image1=PIL.Image.new(\"RGB\",(560,560),'white')\n",
    "draw=ImageDraw.Draw(image1)\n",
    "w.pack(expand = YES, fill = BOTH)\n",
    "w.bind( \"<1>\", activate_paint )\n",
    "lab=Label(master,text='')\n",
    "submit= Button(master,command=digit_recog,text='Submit')\n",
    "reset= Button(master,command=reset,text='Reset')\n",
    "submit.pack(side=BOTTOM)\n",
    "reset.pack(side=BOTTOM)\n",
    "message = Label( master, text = \"Press and Drag the mouse to draw a number\" )\n",
    "message.pack( side = BOTTOM )\n",
    "lab.pack(side= BOTTOM)\n",
    "\n",
    "    \n",
    "mainloop()\n"
   ]
  },
  {
   "cell_type": "code",
   "execution_count": null,
   "metadata": {},
   "outputs": [],
   "source": []
  },
  {
   "cell_type": "code",
   "execution_count": null,
   "metadata": {},
   "outputs": [],
   "source": []
  }
 ],
 "metadata": {
  "kernelspec": {
   "display_name": "Python 3",
   "language": "python",
   "name": "python3"
  },
  "language_info": {
   "codemirror_mode": {
    "name": "ipython",
    "version": 3
   },
   "file_extension": ".py",
   "mimetype": "text/x-python",
   "name": "python",
   "nbconvert_exporter": "python",
   "pygments_lexer": "ipython3",
   "version": "3.7.2"
  }
 },
 "nbformat": 4,
 "nbformat_minor": 2
}
