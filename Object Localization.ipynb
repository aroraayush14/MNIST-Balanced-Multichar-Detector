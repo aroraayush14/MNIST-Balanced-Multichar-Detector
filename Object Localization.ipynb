{
 "cells": [
  {
   "cell_type": "code",
   "execution_count": 9,
   "metadata": {},
   "outputs": [],
   "source": [
    "import numpy as np\n",
    "import cv2 as cv\n",
    "from matplotlib import pyplot as plt\n",
    "import tensorflow.keras.utils\n",
    "from tensorflow.keras.models import load_model\n",
    "from tkinter import *\n",
    "import PIL\n",
    "from PIL import ImageDraw\n",
    "import cv2 as cv"
   ]
  },
  {
   "cell_type": "code",
   "execution_count": 3,
   "metadata": {},
   "outputs": [],
   "source": [
    "model=load_model('model.h5')\n"
   ]
  },
  {
   "cell_type": "code",
   "execution_count": 6,
   "metadata": {},
   "outputs": [],
   "source": [
    "class_mapping = '0123456789ABCDEFGHIJKLMNOPQRSTUVWXYZabdefghnqrt' #class mapping for data"
   ]
  },
  {
   "cell_type": "code",
   "execution_count": 29,
   "metadata": {},
   "outputs": [
    {
     "data": {
      "image/png": "[encoded data removed]",
      "text/plain": [
       "<Figure size 432x288 with 1 Axes>"
      ]
     },
     "metadata": {
      "needs_background": "light"
     },
     "output_type": "display_data"
    }
   ],
   "source": [
    "def predict_image(file='image.png'):\n",
    "    img = PIL.Image.open(file)\n",
    "    img.save(file)\n",
    "    img = cv.imread(file, 0)\n",
    "    edges = cv.Canny(img,50,50)\n",
    "    mask = cv.dilate(edges, cv.getStructuringElement(cv.MORPH_ELLIPSE,(5, 5)), iterations=2)\n",
    "    plt.imshow(img,cmap='gray')\n",
    "    cntrs,_=cv.findContours(mask,cv.RETR_TREE,cv.CHAIN_APPROX_SIMPLE)\n",
    "    cntrs=sorted(cntrs,key=lambda x:(cv.boundingRect(x)[0],cv.boundingRect(x)[1]))\n",
    "    i=0\n",
    "    op=''\n",
    "    for cnt in cntrs:\n",
    "        x,y,w,h = cv.boundingRect(cnt)\n",
    "        if w>70 or h>70:\n",
    "            \n",
    "            current = img[y-int(w/10):y+h+int(w/10), x-int(w/10):x+w+int(w/10)]\n",
    "            try:\n",
    "                current=1-cv.resize(current,(28,28))/255\n",
    "                op+=class_mapping[np.argmax(model.predict(current.reshape(-1,28,28,1)))]\n",
    "            except:\n",
    "                pass\n",
    "    return op\n",
    "canvas_width = 560\n",
    "canvas_height = 140\n",
    "\n",
    "def activate_paint(e):\n",
    "    global lastx, lasty\n",
    "    w.bind('<B1-Motion>', paint)\n",
    "    lastx, lasty = e.x, e.y\n",
    "def paint( e ):\n",
    "    global lastx, lasty\n",
    "    x, y = e.x, e.y\n",
    "    w.create_line((lastx, lasty, x, y), width=3)\n",
    "    #  --- PIL\n",
    "    draw.line((lastx, lasty, x, y), fill='black', width=8)\n",
    "    lastx, lasty = x, y\n",
    "def digit_recog():\n",
    "    save_image()\n",
    "    op=predict_image()\n",
    "    lab.configure(text=op)\n",
    "def save_image():\n",
    "    image1.save('image.png')\n",
    "def reset():\n",
    "    w.delete('all')\n",
    "    lab.configure(text='')\n",
    "    global image1,draw\n",
    "    image1=PIL.Image.new(\"RGB\",(560,560),'white')\n",
    "    draw=ImageDraw.Draw(image1)\n",
    "master = Tk()\n",
    "master.title( \"Object Detection and Classification\" )\n",
    "w = Canvas(master, \n",
    "           width=canvas_width, \n",
    "           height=canvas_height,\n",
    "           bg='white')\n",
    "lastx,lasty=None,None\n",
    "image1=PIL.Image.new(\"RGB\",(560,280),'white')\n",
    "draw=ImageDraw.Draw(image1)\n",
    "w.pack(expand = YES, fill = BOTH)\n",
    "w.bind( \"<1>\", activate_paint )\n",
    "lab=Label(master,text='')\n",
    "submit= Button(master,command=digit_recog,text='Submit')\n",
    "reset= Button(master,command=reset,text='Reset')\n",
    "submit.pack(side=BOTTOM)\n",
    "reset.pack(side=BOTTOM)\n",
    "message = Label( master, text = \"Press and Drag the mouse to draw a number\" )\n",
    "message.pack( side = BOTTOM )\n",
    "lab.pack(side= BOTTOM)\n",
    "\n",
    "    \n",
    "mainloop()\n"
   ]
  },
  {
   "cell_type": "code",
   "execution_count": null,
   "metadata": {},
   "outputs": [],
   "source": []
  },
  {
   "cell_type": "code",
   "execution_count": null,
   "metadata": {},
   "outputs": [],
   "source": []
  }
 ],
 "metadata": {
  "kernelspec": {
   "display_name": "Python 3",
   "language": "python",
   "name": "python3"
  },
  "language_info": {
   "codemirror_mode": {
    "name": "ipython",
    "version": 3
   },
   "file_extension": ".py",
   "mimetype": "text/x-python",
   "name": "python",
   "nbconvert_exporter": "python",
   "pygments_lexer": "ipython3",
   "version": "3.7.2"
  }
 },
 "nbformat": 4,
 "nbformat_minor": 2
}
