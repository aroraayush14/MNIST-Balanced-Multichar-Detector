{
  "nbformat": 4,
  "nbformat_minor": 0,
  "metadata": {
    "kernelspec": {
      "display_name": "Python 3",
      "language": "python",
      "name": "python3"
    },
    "language_info": {
      "codemirror_mode": {
        "name": "ipython",
        "version": 3
      },
      "file_extension": ".py",
      "mimetype": "text/x-python",
      "name": "python",
      "nbconvert_exporter": "python",
      "pygments_lexer": "ipython3",
      "version": "3.7.2"
    },
    "colab": {
      "name": "Noise Reduction using Convolutional Auto Encoders .ipynb",
      "provenance": [],
      "collapsed_sections": [],
      "toc_visible": true
    }
  },
  "cells": [
    {
      "cell_type": "code",
      "metadata": {
        "id": "0FrMJE0Uogkf",
        "colab_type": "code",
        "colab": {}
      },
      "source": [
        "!mkdir ~/.kaggle\n",
        "!cp kaggle.json ~/.kaggle"
      ],
      "execution_count": 0,
      "outputs": []
    },
    {
      "cell_type": "code",
      "metadata": {
        "id": "Oow7VnOckhl5",
        "colab_type": "code",
        "outputId": "cd04bf06-9ad3-4787-d8dd-5a254db3b375",
        "colab": {
          "base_uri": "https://localhost:8080/",
          "height": 54
        }
      },
      "source": [
        "import numpy as np\n",
        "import pandas as pd\n",
        "import tensorflow as tf\n",
        "import kaggle\n",
        "import cv2 as cv\n",
        "import matplotlib.pyplot as plt\n",
        "from tensorflow.keras.layers import Add,Dense,Dropout,Activation,BatchNormalization,Conv2D,Flatten,MaxPool2D,UpSampling2D,Reshape\n",
        "from tensorflow.keras.models import Sequential\n",
        "from sklearn.metrics import confusion_matrix,f1_score,precision_score,recall_score"
      ],
      "execution_count": 2,
      "outputs": [
        {
          "output_type": "stream",
          "text": [
            "Warning: Your Kaggle API key is readable by other users on this system! To fix this, you can run 'chmod 600 /root/.kaggle/kaggle.json'\n"
          ],
          "name": "stdout"
        }
      ]
    },
    {
      "cell_type": "code",
      "metadata": {
        "id": "wFRWHR3hnWB_",
        "colab_type": "code",
        "outputId": "2d819818-c2dd-4ed6-9a46-f1ce72edb23b",
        "colab": {
          "base_uri": "https://localhost:8080/",
          "height": 54
        }
      },
      "source": [
        "api=kaggle.api\n",
        "api.authenticate()\n",
        "api.dataset_download_files('furryroad/mnist-balanced-dataset',unzip=True)"
      ],
      "execution_count": 3,
      "outputs": [
        {
          "output_type": "stream",
          "text": [
            "Warning: Your Kaggle API key is readable by other users on this system! To fix this, you can run 'chmod 600 /root/.kaggle/kaggle.json'\n"
          ],
          "name": "stdout"
        }
      ]
    },
    {
      "cell_type": "code",
      "metadata": {
        "id": "VZIzbDzGkhmB",
        "colab_type": "code",
        "colab": {}
      },
      "source": [
        "noise_factor=0.5\n",
        "X_train=pd.read_csv('train_X_data.csv').to_numpy()/255 # loaded converted to numpy and normalized\n",
        "X_train_noisy=X_train+ noise_factor*np.random.rand(X_train.shape[0],X_train.shape[1])"
      ],
      "execution_count": 0,
      "outputs": []
    },
    {
      "cell_type": "code",
      "metadata": {
        "id": "J2MftaajovEL",
        "colab_type": "code",
        "colab": {}
      },
      "source": [
        "X_test=pd.read_csv('test_X_data.csv').to_numpy()/255 # loaded converted to numpy and normalized\n",
        "X_test_noisy=X_test+ noise_factor*np.random.rand(X_test.shape[0],X_test.shape[1])"
      ],
      "execution_count": 0,
      "outputs": []
    },
    {
      "cell_type": "markdown",
      "metadata": {
        "id": "WeCWIRDckhmG",
        "colab_type": "text"
      },
      "source": [
        "Plain Image"
      ]
    },
    {
      "cell_type": "code",
      "metadata": {
        "id": "s9NtN9gokhmH",
        "colab_type": "code",
        "outputId": "a4c921d3-32d6-4a3f-9fb3-aa1069b367b7",
        "colab": {
          "base_uri": "https://localhost:8080/",
          "height": 282
        }
      },
      "source": [
        "plt.imshow(X_train[0].reshape((28,28)).T,cmap='gray_r')"
      ],
      "execution_count": 6,
      "outputs": [
        {
          "output_type": "execute_result",
          "data": {
            "text/plain": [
              "<matplotlib.image.AxesImage at 0x7f9c61fff470>"
            ]
          },
          "metadata": {
            "tags": []
          },
          "execution_count": 6
        },
        {
          "output_type": "display_data",
          "data": {
            "image/png": "[encoded data removed]",
            "text/plain": [
              "<Figure size 432x288 with 1 Axes>"
            ]
          },
          "metadata": {
            "tags": [],
            "needs_background": "light"
          }
        }
      ]
    },
    {
      "cell_type": "markdown",
      "metadata": {
        "id": "q9J2Pi3ZkhmM",
        "colab_type": "text"
      },
      "source": [
        "Noisy Image"
      ]
    },
    {
      "cell_type": "code",
      "metadata": {
        "id": "RNp5nlgukhmN",
        "colab_type": "code",
        "outputId": "bf8de9ca-f873-4252-a222-e7673ed0ffa6",
        "colab": {
          "base_uri": "https://localhost:8080/",
          "height": 282
        }
      },
      "source": [
        "plt.imshow(X_train_noisy[0].reshape((28,28)).T,cmap='gray_r')"
      ],
      "execution_count": 9,
      "outputs": [
        {
          "output_type": "execute_result",
          "data": {
            "text/plain": [
              "<matplotlib.image.AxesImage at 0x7f9c61d21198>"
            ]
          },
          "metadata": {
            "tags": []
          },
          "execution_count": 9
        },
        {
          "output_type": "display_data",
          "data": {
            "image/png": "[encoded data removed]",
            "text/plain": [
              "<Figure size 432x288 with 1 Axes>"
            ]
          },
          "metadata": {
            "tags": [],
            "needs_background": "light"
          }
        }
      ]
    },
    {
      "cell_type": "code",
      "metadata": {
        "id": "YIxVuAAakhmR",
        "colab_type": "code",
        "colab": {}
      },
      "source": [
        "X_train=np.moveaxis(X_train.reshape(-1,28,28,1),1,2)\n",
        "X_train_noisy=np.moveaxis(X_train_noisy.reshape(-1,28,28,1),1,2)\n",
        "X_test=np.moveaxis(X_test.reshape(-1,28,28,1),1,2)\n",
        "X_test_noisy=np.moveaxis(X_test_noisy.reshape(-1,28,28,1),1,2)"
      ],
      "execution_count": 0,
      "outputs": []
    },
    {
      "cell_type": "markdown",
      "metadata": {
        "id": "DLMa-qUokhmV",
        "colab_type": "text"
      },
      "source": [
        "# AutoEncoder Model\n"
      ]
    },
    {
      "cell_type": "markdown",
      "metadata": {
        "id": "r671YLz9khmW",
        "colab_type": "text"
      },
      "source": [
        "Convolutional Autoencoder are "
      ]
    },
    {
      "cell_type": "code",
      "metadata": {
        "id": "Sl6TM6O4khmW",
        "colab_type": "code",
        "colab": {}
      },
      "source": [
        "model=Sequential()\n",
        "#Encoding\n",
        "model.add(Conv2D(filters=32,kernel_size=(3,3),padding='same',input_shape=(28,28,1)))\n",
        "model.add(BatchNormalization())\n",
        "model.add(Activation('relu'))\n",
        "model.add(MaxPool2D(strides=(2,2)))\n",
        "model.add(Conv2D(filters=64,kernel_size=(3,3),padding='same'))\n",
        "model.add(BatchNormalization())\n",
        "model.add(Activation('relu'))\n",
        "model.add(MaxPool2D(strides=(2,2)))\n",
        "model.add(Flatten())\n",
        "#Decoding\n",
        "model.add(Dense(units=7*7*64,activation='relu'))\n",
        "model.add(Reshape((7,7,64)))\n",
        "model.add(Conv2D(filters=64,kernel_size=(3,3),padding='same'))\n",
        "model.add(BatchNormalization())\n",
        "model.add(Activation('relu'))\n",
        "model.add(UpSampling2D(size=(2,2)))\n",
        "model.add(Conv2D(filters=32,kernel_size=(3,3),padding='same'))\n",
        "model.add(BatchNormalization())\n",
        "model.add(Activation('relu'))\n",
        "model.add(UpSampling2D(size=(2,2)))\n",
        "model.add(Conv2D(1,kernel_size=(3,3),activation='sigmoid',padding='same'))\n"
      ],
      "execution_count": 0,
      "outputs": []
    },
    {
      "cell_type": "code",
      "metadata": {
        "id": "gXwalU3Bkhmb",
        "colab_type": "code",
        "colab": {}
      },
      "source": [
        "model.compile(optimizer='adam',loss='binary_crossentropy')"
      ],
      "execution_count": 0,
      "outputs": []
    },
    {
      "cell_type": "code",
      "metadata": {
        "id": "35rhbFE9khme",
        "colab_type": "code",
        "outputId": "64877e68-0216-4c7e-c330-4c6ee9259c5a",
        "colab": {
          "base_uri": "https://localhost:8080/",
          "height": 51
        }
      },
      "source": [
        "model.fit(X_train_noisy,X_train,epochs=1)"
      ],
      "execution_count": 18,
      "outputs": [
        {
          "output_type": "stream",
          "text": [
            "3525/3525 [==============================] - 724s 205ms/step - loss: 0.1276\n"
          ],
          "name": "stdout"
        },
        {
          "output_type": "execute_result",
          "data": {
            "text/plain": [
              "<tensorflow.python.keras.callbacks.History at 0x7f9c59269438>"
            ]
          },
          "metadata": {
            "tags": []
          },
          "execution_count": 18
        }
      ]
    },
    {
      "cell_type": "code",
      "metadata": {
        "id": "J4yXkb8ct2d9",
        "colab_type": "code",
        "outputId": "f4f6348c-4e48-485a-9810-24cf6363547f",
        "colab": {
          "base_uri": "https://localhost:8080/",
          "height": 282
        }
      },
      "source": [
        "plt.imshow(X_test_noisy[0].reshape(28,28),cmap='gray_r')"
      ],
      "execution_count": 20,
      "outputs": [
        {
          "output_type": "execute_result",
          "data": {
            "text/plain": [
              "<matplotlib.image.AxesImage at 0x7f9c58734080>"
            ]
          },
          "metadata": {
            "tags": []
          },
          "execution_count": 20
        },
        {
          "output_type": "display_data",
          "data": {
            "image/png": "[encoded data removed]",
            "text/plain": [
              "<Figure size 432x288 with 1 Axes>"
            ]
          },
          "metadata": {
            "tags": [],
            "needs_background": "light"
          }
        }
      ]
    },
    {
      "cell_type": "code",
      "metadata": {
        "id": "vdIvVoXzkhmi",
        "colab_type": "code",
        "outputId": "b751087b-4fd0-4f11-aaba-32d3241057b5",
        "colab": {
          "base_uri": "https://localhost:8080/",
          "height": 282
        }
      },
      "source": [
        "plt.imshow(model.predict(X_test_noisy[0].reshape(-1,28,28,1)).reshape(28,28),cmap='gray_r')"
      ],
      "execution_count": 19,
      "outputs": [
        {
          "output_type": "execute_result",
          "data": {
            "text/plain": [
              "<matplotlib.image.AxesImage at 0x7f9c587f22b0>"
            ]
          },
          "metadata": {
            "tags": []
          },
          "execution_count": 19
        },
        {
          "output_type": "display_data",
          "data": {
            "image/png": "[encoded data removed]",
            "text/plain": [
              "<Figure size 432x288 with 1 Axes>"
            ]
          },
          "metadata": {
            "tags": [],
            "needs_background": "light"
          }
        }
      ]
    },
    {
      "cell_type": "code",
      "metadata": {
        "id": "1VoBYs93KQ9p",
        "colab_type": "code",
        "colab": {}
      },
      "source": [
        "model.save('auto-encoder.h5')"
      ],
      "execution_count": 0,
      "outputs": []
    },
    {
      "cell_type": "code",
      "metadata": {
        "id": "Re0qUz6Lkhml",
        "colab_type": "code",
        "colab": {}
      },
      "source": [
        ""
      ],
      "execution_count": 0,
      "outputs": []
    }
  ]
}