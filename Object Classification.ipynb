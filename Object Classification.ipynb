{
 "cells": [
  {
   "cell_type": "code",
   "execution_count": null,
   "metadata": {
    "colab": {},
    "colab_type": "code",
    "id": "_3pugMSX67vp"
   },
   "outputs": [],
   "source": []
  },
  {
   "cell_type": "code",
   "execution_count": 3,
   "metadata": {
    "colab": {
     "base_uri": "https://localhost:8080/",
     "height": 34
    },
    "colab_type": "code",
    "executionInfo": {
     "elapsed": 3415,
     "status": "ok",
     "timestamp": 1585462059218,
     "user": {
      "displayName": "Akshay Pant",
      "photoUrl": "https://lh3.googleusercontent.com/a-/AOh14GjjzNjk555nMbOR26xHZHlbeUWaGEoybGgxnyPTyg=s64",
      "userId": "05760828163717087470"
     },
     "user_tz": -330
    },
    "id": "8vD_1BQq63LN",
    "outputId": "1ba2a6f9-2ca2-4d85-f300-92e546c75f50"
   },
   "outputs": [],
   "source": [
    "import kaggle\n",
    "import pandas as pd\n",
    "import numpy as np\n",
    "import cv2 as cv\n",
    "import matplotlib.pyplot as plt\n",
    "from tensorflow.keras.models import Sequential\n",
    "from tensorflow.keras.layers import Dense,Conv2D,Flatten,MaxPool2D,Dropout,BatchNormalization\n",
    "from tensorflow.keras.preprocessing.image import ImageDataGenerator"
   ]
  },
  {
   "cell_type": "code",
   "execution_count": 4,
   "metadata": {
    "colab": {},
    "colab_type": "code",
    "id": "ky8xX_4s63LX"
   },
   "outputs": [],
   "source": [
    "import tensorflow.keras.utils\n",
    "from sklearn.model_selection import train_test_split\n",
    "from tensorflow.keras.models import load_model\n",
    "from tkinter import *\n",
    "import PIL\n",
    "from PIL import ImageDraw\n",
    "import cv2 as cv"
   ]
  },
  {
   "cell_type": "markdown",
   "metadata": {
    "colab_type": "text",
    "id": "wbozeibv63Lc"
   },
   "source": [
    "## Data Gathering "
   ]
  },
  {
   "cell_type": "markdown",
   "metadata": {
    "colab_type": "text",
    "id": "3uC7BIt463Ld"
   },
   "source": [
    "EMNIST Data converted into csv format is now available on kaggle,for the first part of our model,we are using Balanced EMNIST DATA that has 47 classes as per documentataion and analyzing data using 'Pandas' librabry to find some useful insights."
   ]
  },
  {
   "cell_type": "code",
   "execution_count": 4,
   "metadata": {
    "colab": {
     "base_uri": "https://localhost:8080/",
     "height": 34
    },
    "colab_type": "code",
    "executionInfo": {
     "elapsed": 4519,
     "status": "ok",
     "timestamp": 1585462068688,
     "user": {
      "displayName": "Akshay Pant",
      "photoUrl": "https://lh3.googleusercontent.com/a-/AOh14GjjzNjk555nMbOR26xHZHlbeUWaGEoybGgxnyPTyg=s64",
      "userId": "05760828163717087470"
     },
     "user_tz": -330
    },
    "id": "gicNbtEO63Le",
    "outputId": "031913e9-05a6-44af-c879-d51b1de8e86f"
   },
   "outputs": [],
   "source": [
    "# api=kaggle.api\n",
    "# api.authenticate()\n",
    "# api.dataset_download_files('furryroad/mnist-balanced-dataset',unzip=True)"
   ]
  },
  {
   "cell_type": "code",
   "execution_count": 3,
   "metadata": {
    "colab": {},
    "colab_type": "code",
    "id": "_5QtmU1h63Ln"
   },
   "outputs": [],
   "source": [
    "X_train=pd.read_csv('train_X_data.csv')\n",
    "y_train=pd.read_csv('train_Y_data.csv')\n",
    "X_test=pd.read_csv('test_X_data.csv')\n",
    "y_test=pd.read_csv('test_Y_data.csv')\n"
   ]
  },
  {
   "cell_type": "code",
   "execution_count": 7,
   "metadata": {
    "colab": {},
    "colab_type": "code",
    "id": "2E2J3eL_63Lt"
   },
   "outputs": [],
   "source": [
    "class_mapping = '0123456789ABCDEFGHIJKLMNOPQRSTUVWXYZabdefghnqrt' #class mapping for data"
   ]
  },
  {
   "cell_type": "code",
   "execution_count": 5,
   "metadata": {
    "colab": {},
    "colab_type": "code",
    "id": "i_vmvb3f63L6"
   },
   "outputs": [
    {
     "data": {
      "text/plain": [
       "15.0    2400\n",
       "22.0    2400\n",
       "43.0    2400\n",
       "19.0    2400\n",
       "26.0    2400\n",
       "34.0    2400\n",
       "41.0    2400\n",
       "6.0     2400\n",
       "5.0     2400\n",
       "12.0    2400\n",
       "42.0    2400\n",
       "29.0    2400\n",
       "10.0    2400\n",
       "40.0    2400\n",
       "33.0    2400\n",
       "18.0    2400\n",
       "25.0    2400\n",
       "0.0     2400\n",
       "8.0     2400\n",
       "2.0     2400\n",
       "16.0    2400\n",
       "32.0    2400\n",
       "14.0    2400\n",
       "35.0    2400\n",
       "21.0    2400\n",
       "30.0    2400\n",
       "11.0    2400\n",
       "28.0    2400\n",
       "39.0    2400\n",
       "38.0    2400\n",
       "13.0    2400\n",
       "17.0    2400\n",
       "7.0     2400\n",
       "24.0    2400\n",
       "46.0    2400\n",
       "31.0    2400\n",
       "44.0    2400\n",
       "20.0    2400\n",
       "37.0    2400\n",
       "27.0    2400\n",
       "9.0     2400\n",
       "3.0     2400\n",
       "1.0     2400\n",
       "36.0    2400\n",
       "23.0    2400\n",
       "4.0     2400\n",
       "45.0    2399\n",
       "Name: Unnamed: 0, dtype: int64"
      ]
     },
     "execution_count": 5,
     "metadata": {},
     "output_type": "execute_result"
    },
    {
     "data": {
      "image/png": "[encoded data removed]",
      "text/plain": [
       "<Figure size 432x288 with 1 Axes>"
      ]
     },
     "metadata": {
      "needs_background": "light"
     },
     "output_type": "display_data"
    }
   ],
   "source": [
    "plt.hist(y_train['Unnamed: 0'])\n",
    "y_train['Unnamed: 0'].value_counts()"
   ]
  },
  {
   "cell_type": "markdown",
   "metadata": {
    "colab_type": "text",
    "id": "-AoUcGhl63MA"
   },
   "source": [
    "As we can see, the available data nearly has uniform distributed."
   ]
  },
  {
   "cell_type": "markdown",
   "metadata": {},
   "source": [
    "And there are corrupted null values."
   ]
  },
  {
   "cell_type": "code",
   "execution_count": 6,
   "metadata": {
    "colab": {
     "base_uri": "https://localhost:8080/",
     "height": 101
    },
    "colab_type": "code",
    "executionInfo": {
     "elapsed": 1327,
     "status": "ok",
     "timestamp": 1585462092054,
     "user": {
      "displayName": "Akshay Pant",
      "photoUrl": "https://lh3.googleusercontent.com/a-/AOh14GjjzNjk555nMbOR26xHZHlbeUWaGEoybGgxnyPTyg=s64",
      "userId": "05760828163717087470"
     },
     "user_tz": -330
    },
    "id": "fTE4c-A663L2",
    "outputId": "f937dba1-0bd9-45e0-8949-dc2266617568"
   },
   "outputs": [
    {
     "data": {
      "text/plain": [
       "count       784\n",
       "unique        1\n",
       "top       False\n",
       "freq        784\n",
       "dtype: object"
      ]
     },
     "execution_count": 6,
     "metadata": {},
     "output_type": "execute_result"
    }
   ],
   "source": [
    "X_train.isnull().any().describe() # checking for corrupted values in data"
   ]
  },
  {
   "cell_type": "code",
   "execution_count": null,
   "metadata": {},
   "outputs": [],
   "source": []
  },
  {
   "cell_type": "code",
   "execution_count": null,
   "metadata": {},
   "outputs": [],
   "source": []
  },
  {
   "cell_type": "code",
   "execution_count": 7,
   "metadata": {},
   "outputs": [],
   "source": [
    "X_train=X_train.to_numpy()"
   ]
  },
  {
   "cell_type": "code",
   "execution_count": 8,
   "metadata": {},
   "outputs": [],
   "source": [
    "X_train=np.moveaxis(X_train.reshape((-1,28,28,1)),1,2)\n",
    "X_test=np.moveaxis(X_test.to_numpy().reshape((-1,28,28,1)),1,2)"
   ]
  },
  {
   "cell_type": "code",
   "execution_count": null,
   "metadata": {},
   "outputs": [],
   "source": []
  },
  {
   "cell_type": "code",
   "execution_count": null,
   "metadata": {},
   "outputs": [],
   "source": []
  },
  {
   "cell_type": "code",
   "execution_count": 9,
   "metadata": {
    "colab": {},
    "colab_type": "code",
    "id": "kLx9i0-e63MC"
   },
   "outputs": [],
   "source": [
    "y_train=tensorflow.keras.utils.to_categorical(y_train,num_classes=47)# one hot represtation of labels\n",
    "X_train=X_train/255.0 #normalization \n",
    "y_test=tensorflow.keras.utils.to_categorical(y_test, num_classes=47)# one hot represtation of labels\n",
    "X_test=X_test/255.0 #normalization "
   ]
  },
  {
   "cell_type": "code",
   "execution_count": null,
   "metadata": {
    "colab": {},
    "colab_type": "code",
    "id": "Z9_zly3o63MG"
   },
   "outputs": [],
   "source": []
  },
  {
   "cell_type": "code",
   "execution_count": 10,
   "metadata": {
    "colab": {
     "base_uri": "https://localhost:8080/",
     "height": 282
    },
    "colab_type": "code",
    "executionInfo": {
     "elapsed": 1026,
     "status": "ok",
     "timestamp": 1585463099509,
     "user": {
      "displayName": "Akshay Pant",
      "photoUrl": "https://lh3.googleusercontent.com/a-/AOh14GjjzNjk555nMbOR26xHZHlbeUWaGEoybGgxnyPTyg=s64",
      "userId": "05760828163717087470"
     },
     "user_tz": -330
    },
    "id": "s08xQj7L63ML",
    "outputId": "e79a666c-1d29-46d7-e7a8-0f295c2d73bd"
   },
   "outputs": [
    {
     "data": {
      "text/plain": [
       "'8'"
      ]
     },
     "execution_count": 10,
     "metadata": {},
     "output_type": "execute_result"
    },
    {
     "data": {
      "image/png": "[encoded data removed]",
      "text/plain": [
       "<Figure size 432x288 with 1 Axes>"
      ]
     },
     "metadata": {
      "needs_background": "light"
     },
     "output_type": "display_data"
    }
   ],
   "source": [
    "%matplotlib inline\n",
    "i=111642\n",
    "plt.imshow(X_train[i,:,:,0],cmap='gray_r')\n",
    "class_mapping[np.argmax(y_train[i])]"
   ]
  },
  {
   "cell_type": "markdown",
   "metadata": {
    "colab_type": "text",
    "id": "tHKeKxen63MP"
   },
   "source": [
    "Represtation of single example from training data,we will use similar format of data while testing it."
   ]
  },
  {
   "cell_type": "code",
   "execution_count": null,
   "metadata": {
    "colab": {},
    "colab_type": "code",
    "id": "zwSLVPvf63MQ"
   },
   "outputs": [],
   "source": []
  },
  {
   "cell_type": "markdown",
   "metadata": {
    "colab_type": "text",
    "id": "jvt3gibJ63MU"
   },
   "source": [
    "# Data Augmentation"
   ]
  },
  {
   "cell_type": "code",
   "execution_count": 12,
   "metadata": {
    "colab": {},
    "colab_type": "code",
    "id": "MGCQ1GJV63MW"
   },
   "outputs": [],
   "source": [
    "datagen = ImageDataGenerator(\n",
    "        rotation_range=10,  # randomly rotates some images in the range (degrees, 0 to 180)\n",
    "        zoom_range = 0.1, # Randomly zooms some image \n",
    "        width_shift_range=0.1,  # randomly shifts some images horizontally (fraction of total width)\n",
    "        height_shift_range=0.1,  # randomly shifts some images vertically (fraction of total height)\n",
    "            )\n",
    "datagen.fit(X_train)"
   ]
  },
  {
   "cell_type": "code",
   "execution_count": null,
   "metadata": {
    "colab": {},
    "colab_type": "code",
    "id": "s-0TkZ7B63Ma"
   },
   "outputs": [],
   "source": []
  },
  {
   "cell_type": "markdown",
   "metadata": {
    "colab_type": "text",
    "id": "hObHqPQM63Me"
   },
   "source": [
    "# Sequential Model"
   ]
  },
  {
   "cell_type": "code",
   "execution_count": null,
   "metadata": {
    "colab": {},
    "colab_type": "code",
    "id": "pKu_caJK63Mf"
   },
   "outputs": [],
   "source": []
  },
  {
   "cell_type": "code",
   "execution_count": 36,
   "metadata": {
    "colab": {},
    "colab_type": "code",
    "id": "xnWeVZr763Mj"
   },
   "outputs": [],
   "source": [
    "model=Sequential() # initializing sequential model \n",
    "model.add(Conv2D(filters=64,kernel_size=(3,3),padding='same',input_shape=(28,28,1),activation='relu'))\n",
    "model.add(BatchNormalization())\n",
    "model.add(Conv2D(filters=64,kernel_size=(3,3),padding='same',activation='relu'))\n",
    "model.add(BatchNormalization())\n",
    "model.add(MaxPool2D(strides=(2,2)))\n",
    "model.add(Dropout(0.4))\n",
    "model.add(Conv2D(filters=128,kernel_size=(3,3),padding='same',activation='relu'))\n",
    "model.add(BatchNormalization())\n",
    "model.add(Conv2D(filters=128,kernel_size=(3,3),padding='same',activation='relu'))\n",
    "model.add(BatchNormalization())\n",
    "model.add(MaxPool2D(strides=(2,2)))\n",
    "model.add(Dropout(0.4))\n",
    "model.add(Conv2D(filters=256,kernel_size=(3,3),padding='same',activation='relu'))\n",
    "model.add(BatchNormalization())\n",
    "model.add(Conv2D(filters=256,kernel_size=(3,3),padding='same',activation='relu'))\n",
    "model.add(BatchNormalization())\n",
    "model.add(MaxPool2D(strides=(2,2)))\n",
    "model.add(Dropout(0.4))\n",
    "model.add(Conv2D(filters=128,kernel_size=(1,1),padding='same',activation='relu'))\n",
    "model.add(BatchNormalization())\n",
    "model.add(Flatten())\n",
    "model.add(Dense(units=128,activation='relu'))\n",
    "model.add(Dropout(0.2))\n",
    "model.add(BatchNormalization())\n",
    "model.add(Dense(units=128,activation='relu'))\n",
    "model.add(Dropout(0.2))\n",
    "model.add(BatchNormalization())\n",
    "model.add(Dense(units=47,activation='softmax'))"
   ]
  },
  {
   "cell_type": "code",
   "execution_count": 37,
   "metadata": {
    "colab": {},
    "colab_type": "code",
    "id": "xCHw_rlW63Mo"
   },
   "outputs": [],
   "source": [
    "model.compile(optimizer='adam',loss='categorical_crossentropy',metrics=['accuracy'])"
   ]
  },
  {
   "cell_type": "code",
   "execution_count": 38,
   "metadata": {
    "colab": {
     "base_uri": "https://localhost:8080/",
     "height": 353
    },
    "colab_type": "code",
    "executionInfo": {
     "elapsed": 395448,
     "status": "ok",
     "timestamp": 1585462721482,
     "user": {
      "displayName": "Akshay Pant",
      "photoUrl": "https://lh3.googleusercontent.com/a-/AOh14GjjzNjk555nMbOR26xHZHlbeUWaGEoybGgxnyPTyg=s64",
      "userId": "05760828163717087470"
     },
     "user_tz": -330
    },
    "id": "udnjCwMD63Ms",
    "outputId": "76dd85db-7094-4fc8-de70-2d077d524bee"
   },
   "outputs": [
    {
     "name": "stdout",
     "output_type": "stream",
     "text": [
      "Train on 112799 samples, validate on 18799 samples\n",
      "Epoch 1/30\n",
      "112799/112799 [==============================] - 653s 6ms/sample - loss: 0.8445 - accuracy: 0.7375 - val_loss: 0.3932 - val_accuracy: 0.8621\n",
      "Epoch 2/30\n",
      "112799/112799 [==============================] - 125s 1ms/sample - loss: 0.4697 - accuracy: 0.8381 - val_loss: 0.3541 - val_accuracy: 0.8714\n",
      "Epoch 3/30\n",
      "112799/112799 [==============================] - 147s 1ms/sample - loss: 0.4132 - accuracy: 0.8544 - val_loss: 0.3423 - val_accuracy: 0.8748\n",
      "Epoch 4/30\n",
      "112799/112799 [==============================] - 123s 1ms/sample - loss: 0.3797 - accuracy: 0.8654 - val_loss: 0.3241 - val_accuracy: 0.8845\n",
      "Epoch 5/30\n",
      "112799/112799 [==============================] - 124s 1ms/sample - loss: 0.3594 - accuracy: 0.8710 - val_loss: 0.3126 - val_accuracy: 0.8888\n",
      "Epoch 6/30\n",
      "112799/112799 [==============================] - 124s 1ms/sample - loss: 0.3395 - accuracy: 0.8773 - val_loss: 0.3020 - val_accuracy: 0.8908\n",
      "Epoch 7/30\n",
      "112799/112799 [==============================] - 124s 1ms/sample - loss: 0.3277 - accuracy: 0.8815 - val_loss: 0.2942 - val_accuracy: 0.8955\n",
      "Epoch 8/30\n",
      "112799/112799 [==============================] - 125s 1ms/sample - loss: 0.3163 - accuracy: 0.8842 - val_loss: 0.2952 - val_accuracy: 0.8939\n",
      "Epoch 9/30\n",
      "112799/112799 [==============================] - 124s 1ms/sample - loss: 0.3089 - accuracy: 0.8868 - val_loss: 0.2834 - val_accuracy: 0.8963\n",
      "Epoch 10/30\n",
      "112799/112799 [==============================] - 125s 1ms/sample - loss: 0.2980 - accuracy: 0.8906 - val_loss: 0.2889 - val_accuracy: 0.8960\n",
      "Epoch 11/30\n",
      "112799/112799 [==============================] - 124s 1ms/sample - loss: 0.2925 - accuracy: 0.8923 - val_loss: 0.2943 - val_accuracy: 0.8948\n",
      "Epoch 12/30\n",
      "112799/112799 [==============================] - 124s 1ms/sample - loss: 0.2871 - accuracy: 0.8933 - val_loss: 0.2888 - val_accuracy: 0.8944\n",
      "Epoch 13/30\n",
      "112799/112799 [==============================] - 124s 1ms/sample - loss: 0.2810 - accuracy: 0.8954 - val_loss: 0.2827 - val_accuracy: 0.8988\n",
      "Epoch 14/30\n",
      "112799/112799 [==============================] - 124s 1ms/sample - loss: 0.2756 - accuracy: 0.8968 - val_loss: 0.2859 - val_accuracy: 0.8976\n",
      "Epoch 15/30\n",
      "112799/112799 [==============================] - 124s 1ms/sample - loss: 0.2687 - accuracy: 0.8993 - val_loss: 0.2813 - val_accuracy: 0.9003\n",
      "Epoch 16/30\n",
      "112799/112799 [==============================] - 124s 1ms/sample - loss: 0.2648 - accuracy: 0.9005 - val_loss: 0.2825 - val_accuracy: 0.8994\n",
      "Epoch 17/30\n",
      "112799/112799 [==============================] - 124s 1ms/sample - loss: 0.2618 - accuracy: 0.9002 - val_loss: 0.2849 - val_accuracy: 0.8999\n",
      "Epoch 18/30\n",
      "112799/112799 [==============================] - 125s 1ms/sample - loss: 0.2572 - accuracy: 0.9019 - val_loss: 0.2806 - val_accuracy: 0.9006\n",
      "Epoch 19/30\n",
      "112799/112799 [==============================] - 125s 1ms/sample - loss: 0.2546 - accuracy: 0.9031 - val_loss: 0.2852 - val_accuracy: 0.8980\n",
      "Epoch 20/30\n",
      "112799/112799 [==============================] - 125s 1ms/sample - loss: 0.2496 - accuracy: 0.9049 - val_loss: 0.2791 - val_accuracy: 0.9012\n",
      "Epoch 21/30\n",
      "112799/112799 [==============================] - 125s 1ms/sample - loss: 0.2464 - accuracy: 0.9057 - val_loss: 0.2854 - val_accuracy: 0.9015\n",
      "Epoch 22/30\n",
      "112799/112799 [==============================] - 125s 1ms/sample - loss: 0.2433 - accuracy: 0.9065 - val_loss: 0.2876 - val_accuracy: 0.9030\n",
      "Epoch 23/30\n",
      "112799/112799 [==============================] - 125s 1ms/sample - loss: 0.2420 - accuracy: 0.9081 - val_loss: 0.2840 - val_accuracy: 0.8990\n",
      "Epoch 24/30\n",
      "112799/112799 [==============================] - 125s 1ms/sample - loss: 0.2388 - accuracy: 0.9078 - val_loss: 0.2845 - val_accuracy: 0.9023\n",
      "Epoch 25/30\n",
      "112799/112799 [==============================] - 125s 1ms/sample - loss: 0.2366 - accuracy: 0.9088 - val_loss: 0.2843 - val_accuracy: 0.9026\n",
      "Epoch 26/30\n",
      "112799/112799 [==============================] - 125s 1ms/sample - loss: 0.2333 - accuracy: 0.9104 - val_loss: 0.2823 - val_accuracy: 0.9024\n",
      "Epoch 27/30\n",
      "112799/112799 [==============================] - 125s 1ms/sample - loss: 0.2304 - accuracy: 0.9111 - val_loss: 0.2854 - val_accuracy: 0.9015\n",
      "Epoch 28/30\n",
      "112799/112799 [==============================] - 125s 1ms/sample - loss: 0.2287 - accuracy: 0.9115 - val_loss: 0.2832 - val_accuracy: 0.8998\n",
      "Epoch 29/30\n",
      "112799/112799 [==============================] - 125s 1ms/sample - loss: 0.2273 - accuracy: 0.9120 - val_loss: 0.2843 - val_accuracy: 0.9009\n",
      "Epoch 30/30\n",
      "112799/112799 [==============================] - 125s 1ms/sample - loss: 0.2239 - accuracy: 0.9134 - val_loss: 0.2884 - val_accuracy: 0.9038\n"
     ]
    }
   ],
   "source": [
    "history=model.fit(X_train,y_train,epochs=30,verbose=1,validation_data=(X_test,y_test))"
   ]
  },
  {
   "cell_type": "code",
   "execution_count": 49,
   "metadata": {
    "colab": {},
    "colab_type": "code",
    "id": "YHxj6G8r63Mx"
   },
   "outputs": [
    {
     "name": "stdout",
     "output_type": "stream",
     "text": [
      "18799/18799 [==============================] - 10s 541us/sample - loss: 0.2884 - accuracy: 0.9038\n"
     ]
    },
    {
     "data": {
      "text/plain": [
       "[0.28838540549683844, 0.90377146]"
      ]
     },
     "execution_count": 49,
     "metadata": {},
     "output_type": "execute_result"
    }
   ],
   "source": [
    "model.evaluate(X_test,y_test)"
   ]
  },
  {
   "cell_type": "code",
   "execution_count": null,
   "metadata": {
    "colab": {},
    "colab_type": "code",
    "id": "BVCagcTLU1CV"
   },
   "outputs": [],
   "source": []
  },
  {
   "cell_type": "code",
   "execution_count": 40,
   "metadata": {},
   "outputs": [
    {
     "data": {
      "text/plain": [
       "[<matplotlib.lines.Line2D at 0x1319a6bfb00>]"
      ]
     },
     "execution_count": 40,
     "metadata": {},
     "output_type": "execute_result"
    },
    {
     "data": {
      "image/png": "[encoded data removed]",
      "text/plain": [
       "<Figure size 432x288 with 1 Axes>"
      ]
     },
     "metadata": {
      "needs_background": "light"
     },
     "output_type": "display_data"
    }
   ],
   "source": [
    "plt.plot(range(30),history.history['loss'])"
   ]
  },
  {
   "cell_type": "code",
   "execution_count": 41,
   "metadata": {
    "colab": {},
    "colab_type": "code",
    "id": "2X3CpAV463M1"
   },
   "outputs": [],
   "source": [
    "model.save('model.h5')"
   ]
  },
  {
   "cell_type": "code",
   "execution_count": 12,
   "metadata": {
    "colab": {
     "base_uri": "https://localhost:8080/",
     "height": 282
    },
    "colab_type": "code",
    "executionInfo": {
     "elapsed": 1310,
     "status": "ok",
     "timestamp": 1585463059172,
     "user": {
      "displayName": "Akshay Pant",
      "photoUrl": "https://lh3.googleusercontent.com/a-/AOh14GjjzNjk555nMbOR26xHZHlbeUWaGEoybGgxnyPTyg=s64",
      "userId": "05760828163717087470"
     },
     "user_tz": -330
    },
    "id": "DLQV5GMa2ErQ",
    "outputId": "4d64c33e-7158-4337-c820-f54add64966d"
   },
   "outputs": [
    {
     "data": {
      "text/plain": [
       "('T', 'T')"
      ]
     },
     "execution_count": 12,
     "metadata": {},
     "output_type": "execute_result"
    },
    {
     "data": {
      "image/png": "[encoded data removed]",
      "text/plain": [
       "<Figure size 432x288 with 1 Axes>"
      ]
     },
     "metadata": {
      "needs_background": "light"
     },
     "output_type": "display_data"
    }
   ],
   "source": [
    "%matplotlib inline\n",
    "i=89\n",
    "plt.imshow(X_test[i,:,:,0],cmap='gray_r')\n",
    "class_mapping[np.argmax(model.predict(X_test[i,:,:,:].reshape((-1,28,28,1))))],class_mapping[np.argmax(y_test[i])]"
   ]
  },
  {
   "cell_type": "code",
   "execution_count": null,
   "metadata": {},
   "outputs": [],
   "source": []
  },
  {
   "cell_type": "code",
   "execution_count": 5,
   "metadata": {},
   "outputs": [],
   "source": [
    "model=load_model('model.h5')"
   ]
  },
  {
   "cell_type": "code",
   "execution_count": 47,
   "metadata": {},
   "outputs": [],
   "source": [
    "\n",
    "def load_image(file='test.png'):\n",
    "    img = PIL.Image.open(file)\n",
    "    img.thumbnail((28,28))\n",
    "    img.save(file)\n",
    "    im=cv.imread(file)\n",
    "    im=cv.cvtColor(im,cv.COLOR_BGR2GRAY).flatten().reshape(1,784)\n",
    "    im=255-im\n",
    "    \n",
    "    return im/255.0\n",
    "\n",
    "canvas_width = 280\n",
    "canvas_height = 280\n",
    "\n",
    "def activate_paint(e):\n",
    "    global lastx, lasty\n",
    "    w.bind('<B1-Motion>', paint)\n",
    "    lastx, lasty = e.x, e.y\n",
    "def paint( e ):\n",
    "    global lastx, lasty\n",
    "    x, y = e.x, e.y\n",
    "    w.create_line((lastx, lasty, x, y), width=3)\n",
    "    #  --- PIL\n",
    "    draw.line((lastx, lasty, x, y), fill='black', width=12)\n",
    "    lastx, lasty = x, y\n",
    "def digit_recog():\n",
    "    save_image()\n",
    "    im=load_image()\n",
    "    cnn_op=model.predict(im.reshape((-1,28,28,1)))[0]\n",
    "\n",
    "    op=class_mapping[np.argmax(cnn_op)]\n",
    "    lab.configure(text=op)\n",
    "def save_image():\n",
    "    image1.save('test.png')\n",
    "def reset():\n",
    "    w.delete('all')\n",
    "    lab.configure(text='')\n",
    "    global image1,draw\n",
    "    image1=PIL.Image.new(\"RGB\",(280,280),'white')\n",
    "    draw=ImageDraw.Draw(image1)\n",
    "master = Tk()\n",
    "master.title( \"Painting using Ovals\" )\n",
    "w = Canvas(master, \n",
    "           width=canvas_width, \n",
    "           height=canvas_height,\n",
    "           bg='white')\n",
    "lastx,lasty=None,None\n",
    "image1=PIL.Image.new(\"RGB\",(280,280),'white')\n",
    "draw=ImageDraw.Draw(image1)\n",
    "w.pack(expand = YES, fill = BOTH)\n",
    "w.bind( \"<1>\", activate_paint )\n",
    "lab=Label(master,text='')\n",
    "submit= Button(master,command=digit_recog,text='Submit')\n",
    "reset= Button(master,command=reset,text='Reset')\n",
    "submit.pack(side=BOTTOM)\n",
    "reset.pack(side=BOTTOM)\n",
    "message = Label( master, text = \"Press and Drag the mouse to draw a number\" )\n",
    "message.pack( side = BOTTOM )\n",
    "lab.pack(side= BOTTOM)\n",
    "\n",
    "    \n",
    "mainloop()\n",
    "\n"
   ]
  },
  {
   "cell_type": "code",
   "execution_count": 22,
   "metadata": {},
   "outputs": [],
   "source": []
  },
  {
   "cell_type": "code",
   "execution_count": null,
   "metadata": {},
   "outputs": [],
   "source": []
  }
 ],
 "metadata": {
  "accelerator": "GPU",
  "colab": {
   "collapsed_sections": [],
   "name": "CNN Model.ipynb",
   "provenance": []
  },
  "kernelspec": {
   "display_name": "Python 3",
   "language": "python",
   "name": "python3"
  },
  "language_info": {
   "codemirror_mode": {
    "name": "ipython",
    "version": 3
   },
   "file_extension": ".py",
   "mimetype": "text/x-python",
   "name": "python",
   "nbconvert_exporter": "python",
   "pygments_lexer": "ipython3",
   "version": "3.7.2"
  }
 },
 "nbformat": 4,
 "nbformat_minor": 1
}
