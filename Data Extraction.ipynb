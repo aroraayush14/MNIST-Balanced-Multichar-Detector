{
 "cells": [
  {
   "cell_type": "markdown",
   "metadata": {},
   "source": [
    "# Data Conversion "
   ]
  },
  {
   "cell_type": "markdown",
   "metadata": {},
   "source": [
    "Data was present in binary format so to convert it into more readable and more accessible data format we convert it into csv format "
   ]
  },
  {
   "cell_type": "code",
   "execution_count": 1,
   "metadata": {},
   "outputs": [],
   "source": [
    "import gzip\n",
    "import matplotlib.pyplot as plt\n",
    "import numpy as np\n",
    "import pandas as pd"
   ]
  },
  {
   "cell_type": "markdown",
   "metadata": {},
   "source": [
    "Converting Images into csv training data   "
   ]
  },
  {
   "cell_type": "code",
   "execution_count": 2,
   "metadata": {},
   "outputs": [],
   "source": [
    "file=gzip.open('gzip\\emnist-balanced-train-images-idx3-ubyte.gz','r')\n",
    "file.read(16)\n",
    "buf=file.read()\n",
    "image_size=28\n",
    "data = np.frombuffer(buf, dtype=np.uint8).astype(np.float32)\n",
    "data = data.reshape(-1, image_size*image_size)\n",
    "data=pd.DataFrame(np.int_(data[1:,1:]),index=data[1:,0],columns=data[0,1:])\n",
    "data.to_csv('train_X_data.csv')"
   ]
  },
  {
   "cell_type": "markdown",
   "metadata": {},
   "source": [
    "Converting Images into csv test data"
   ]
  },
  {
   "cell_type": "code",
   "execution_count": 3,
   "metadata": {},
   "outputs": [],
   "source": [
    "file=gzip.open('gzip\\emnist-balanced-test-images-idx3-ubyte.gz','r')\n",
    "file.read(16)\n",
    "buf=file.read()\n",
    "image_size=28\n",
    "data = np.frombuffer(buf, dtype=np.uint8).astype(np.float32)\n",
    "data = data.reshape(-1, image_size*image_size)\n",
    "data=pd.DataFrame(np.int_(data[1:,1:]),index=data[1:,0],columns=data[0,1:])\n",
    "data.to_csv('test_X_data.csv')"
   ]
  },
  {
   "cell_type": "markdown",
   "metadata": {},
   "source": [
    "Converting labels into csv training data"
   ]
  },
  {
   "cell_type": "code",
   "execution_count": 4,
   "metadata": {},
   "outputs": [],
   "source": [
    "file=gzip.open('gzip\\emnist-balanced-train-labels-idx1-ubyte.gz','r')\n",
    "file.read(8)\n",
    "buf=file.read()\n",
    "data = np.frombuffer(buf, dtype=np.uint8).astype(np.float32)\n",
    "data = data.reshape(-1, 1)\n",
    "data=pd.DataFrame(np.int_(data[1:,1:]),index=data[1:,0],columns=data[0,1:])\n",
    "data.to_csv('train_Y_data.csv')"
   ]
  },
  {
   "cell_type": "markdown",
   "metadata": {},
   "source": [
    "Converting labels into csv test data"
   ]
  },
  {
   "cell_type": "code",
   "execution_count": 5,
   "metadata": {},
   "outputs": [],
   "source": [
    "file=gzip.open('gzip\\emnist-balanced-test-labels-idx1-ubyte.gz','r')\n",
    "file.read(8)\n",
    "buf=file.read()\n",
    "data = np.frombuffer(buf, dtype=np.uint8).astype(np.float32)\n",
    "data = data.reshape(-1, 1)\n",
    "data=pd.DataFrame(np.int_(data[1:,1:]),index=data[1:,0],columns=data[0,1:])\n",
    "data.to_csv('test_Y_data.csv')"
   ]
  },
  {
   "cell_type": "code",
   "execution_count": null,
   "metadata": {},
   "outputs": [],
   "source": []
  }
 ],
 "metadata": {
  "kernelspec": {
   "display_name": "Python 3",
   "language": "python",
   "name": "python3"
  },
  "language_info": {
   "codemirror_mode": {
    "name": "ipython",
    "version": 3
   },
   "file_extension": ".py",
   "mimetype": "text/x-python",
   "name": "python",
   "nbconvert_exporter": "python",
   "pygments_lexer": "ipython3",
   "version": "3.7.2"
  }
 },
 "nbformat": 4,
 "nbformat_minor": 2
}
